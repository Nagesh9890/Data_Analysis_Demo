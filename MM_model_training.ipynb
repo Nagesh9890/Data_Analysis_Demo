{
  "nbformat": 4,
  "nbformat_minor": 0,
  "metadata": {
    "colab": {
      "provenance": []
    },
    "kernelspec": {
      "name": "python3",
      "display_name": "Python 3"
    },
    "language_info": {
      "name": "python"
    }
  },
  "cells": [
    {
      "cell_type": "code",
      "execution_count": 1,
      "metadata": {
        "colab": {
          "base_uri": "https://localhost:8080/"
        },
        "id": "w-g_Xo9Sw27M",
        "outputId": "80a438e0-41be-46a4-807b-fed70a5fca17"
      },
      "outputs": [
        {
          "output_type": "stream",
          "name": "stdout",
          "text": [
            "Collecting pyspark\n",
            "  Downloading pyspark-3.5.0.tar.gz (316.9 MB)\n",
            "\u001b[2K     \u001b[90m━━━━━━━━━━━━━━━━━━━━━━━━━━━━━━━━━━━━━━━━\u001b[0m \u001b[32m316.9/316.9 MB\u001b[0m \u001b[31m2.3 MB/s\u001b[0m eta \u001b[36m0:00:00\u001b[0m\n",
            "\u001b[?25h  Preparing metadata (setup.py) ... \u001b[?25l\u001b[?25hdone\n",
            "Requirement already satisfied: py4j==0.10.9.7 in /usr/local/lib/python3.10/dist-packages (from pyspark) (0.10.9.7)\n",
            "Building wheels for collected packages: pyspark\n",
            "  Building wheel for pyspark (setup.py) ... \u001b[?25l\u001b[?25hdone\n",
            "  Created wheel for pyspark: filename=pyspark-3.5.0-py2.py3-none-any.whl size=317425344 sha256=b0078b984692ca1ef687865ec01242b8e91835f287697084ad5fe70f8eb26b91\n",
            "  Stored in directory: /root/.cache/pip/wheels/41/4e/10/c2cf2467f71c678cfc8a6b9ac9241e5e44a01940da8fbb17fc\n",
            "Successfully built pyspark\n",
            "Installing collected packages: pyspark\n",
            "Successfully installed pyspark-3.5.0\n"
          ]
        }
      ],
      "source": [
        "!pip install pyspark"
      ]
    },
    {
      "cell_type": "code",
      "source": [
        "from pyspark.sql import SparkSession\n",
        "spark = SparkSession.builder.master(\"local[*]\").getOrCreate()"
      ],
      "metadata": {
        "id": "nwRO1wN9w4qY"
      },
      "execution_count": 2,
      "outputs": []
    },
    {
      "cell_type": "code",
      "source": [
        "from IPython.core.display import HTML,display\n",
        "display(HTML(\"<style>pre { white-space: pre !important; }</style>\"))"
      ],
      "metadata": {
        "colab": {
          "base_uri": "https://localhost:8080/",
          "height": 17
        },
        "id": "da2fqoJ4CnXO",
        "outputId": "4d6db3a0-df5e-4a59-9270-564d2a43c276"
      },
      "execution_count": 3,
      "outputs": [
        {
          "output_type": "display_data",
          "data": {
            "text/plain": [
              "<IPython.core.display.HTML object>"
            ],
            "text/html": [
              "<style>pre { white-space: pre !important; }</style>"
            ]
          },
          "metadata": {}
        }
      ]
    },
    {
      "cell_type": "code",
      "source": [
        "from pyspark.ml.feature import HashingTF, IDF, Tokenizer, VectorAssembler\n",
        "from pyspark.ml.classification import RandomForestClassifier\n",
        "from pyspark.ml.evaluation import MulticlassClassificationEvaluator\n",
        "from pyspark.ml import Pipeline\n",
        "# Assuming you've uploaded the CSV to Colab\n",
        "df = spark.read.csv(\"/content/PhonePe_Sherloc_Categories_updated_Smaller_One.csv\", header=True, inferSchema=True)\n",
        "df.show()"
      ],
      "metadata": {
        "colab": {
          "base_uri": "https://localhost:8080/"
        },
        "id": "k5-G_I-sxjMe",
        "outputId": "60212f25-a117-45aa-bb15-fa9f3fedf670"
      },
      "execution_count": 5,
      "outputs": [
        {
          "output_type": "stream",
          "name": "stdout",
          "text": [
            "+--------------------+----------------+------------------------+-------------------------+--------------------+--------------------+------------------+-----------+----------+--------------+------------+--------------------+------------------+-----------+--------------------+--------------------+------------+-------+----------------+----------------+-----------------+--------------------+\n",
            "|  upi_transaction_id|transaction_type|transaction_reference_id|customer_reference_number|                note|payer_account_number|payer_account_type| payer_ifsc|payer_name|     payer_vpa|payer_amount|payee_account_number|payee_account_type| payee_ifsc|          payee_name|           payee_vpa|payee_amount|  state|         created|         updated|        Category1|           Category2|\n",
            "+--------------------+----------------+------------------------+-------------------------+--------------------+--------------------+------------------+-----------+----------+--------------+------------+--------------------+------------------+-----------+--------------------+--------------------+------------+-------+----------------+----------------+-----------------+--------------------+\n",
            "|YBL3b55ac093d7648...|             PAY|              1200233635|                2.0323E11|Payment from PhonePe|           9.5425E15|           SAVINGS|KARB0000954| H VIGNESH|7019270274@ybl|       75000|     918020110872063|           SAVINGS|UTIB0000000|           PAVAN BAR|gpay-11200233635@...|       75000|SUCCESS|01-02-2022 19:58|01-02-2022 19:58|Personal Transfer|TRANSFER_FRIENDS_...|\n",
            "|YBLdc58fbba10be46...|             PAY|    T2202011229232764...|               2.03272E11|Payment from PhonePe|           9.5425E15|           SAVINGS|KARB0000954| H VIGNESH|7019270274@ybl|        1800|   00000054007513786|           SAVINGS|SBIN0040605|         SANJEEVA  C|      Q513055970@ybl|        1800|SUCCESS|01-02-2022 12:29|01-02-2022 12:29|Personal Transfer|TRANSFER_FRIENDS_...|\n",
            "|YBLdbc43d56f67644...|             PAY|              1200025300|               2.00778E11|Payment from PhonePe|           9.5425E15|           SAVINGS|KARB0000954| H VIGNESH|7019270274@ybl|        9000|     918020110872063|           SAVINGS|UTIB0000000|          G N STORES|gpay-11200025300@...|        9000|SUCCESS|07-01-2022 12:18|07-01-2022 12:18|Personal Transfer|TRANSFER_FRIENDS_...|\n",
            "|YBL6f7be574f7a84d...|             PAY|    T2202030848314044...|               2.03481E11|Payment from PhonePe|           9.5425E15|           SAVINGS|KARB0000954| H VIGNESH|7019270274@ybl|        1800|   00000054007513786|           SAVINGS|SBIN0040605|         SANJEEVA  C|      Q513055970@ybl|        1800|SUCCESS|03-02-2022 08:48|03-02-2022 08:48|Personal Transfer|TRANSFER_FRIENDS_...|\n",
            "|YBL36518a861bf440...|             PAY|    T2202032215493445...|               2.03423E11|Payment from PhonePe|           9.5425E15|           SAVINGS|KARB0000954| H VIGNESH|7019270274@ybl|      200000|          5445715243|           SAVINGS|KKBK0008062|           ASHOK   K|      9986528460@ybl|      200000|SUCCESS|03-02-2022 22:15|03-02-2022 22:15|Personal Transfer|TRANSFER_FRIENDS_...|\n",
            "|YBL98cd64615a3842...|             PAY|    T2202252126498206...|               2.05648E11|Payment from PhonePe|           9.5425E15|           SAVINGS|KARB0000954| H VIGNESH|7019270274@ybl|       40000|      15042600001897|           SAVINGS|CNRB0000033|         DARSHAN D V|      darshan.dv@ybl|       40000|SUCCESS|25-02-2022 21:26|25-02-2022 21:26|Personal Transfer|TRANSFER_FRIENDS_...|\n",
            "|YBLbf83393e82e445...|             PAY|              1197405594|               2.03134E11|Payment from PhonePe|           9.5425E15|           SAVINGS|KARB0000954| H VIGNESH|7019270274@ybl|        1800|     918020110872063|           SAVINGS|UTIB0000000|          Paan Stall|gpay-11197405594@...|        1800|SUCCESS|31-01-2022 14:06|31-01-2022 14:06|Personal Transfer|TRANSFER_FRIENDS_...|\n",
            "|YBL0ccf09ef9a5241...|             PAY|    T2202060935527432...|               2.03729E11|Payment from PhonePe|           9.5425E15|           SAVINGS|KARB0000954| H VIGNESH|7019270274@ybl|        4700|   00000054007513786|           SAVINGS|SBIN0040605|         SANJEEVA  C|      Q513055970@ybl|        4700|SUCCESS|06-02-2022 09:35|06-02-2022 09:35|Personal Transfer|TRANSFER_FRIENDS_...|\n",
            "|YBL7aad4fb33d9e43...|             PAY|    T2202071612588899...|                2.0384E11|Payment from PhonePe|           9.5425E15|           SAVINGS|KARB0000954| H VIGNESH|7019270274@ybl|        5000|       4219101002468|           SAVINGS|CNRB0000000|           VIJAY C M|      8197534210@ybl|        5000|SUCCESS|07-02-2022 16:13|07-02-2022 16:13|Personal Transfer|TRANSFER_FRIENDS_...|\n",
            "|YBL558f8ca626634c...|             PAY|              1173717007|               2.04815E11|Payment from PhonePe|           9.5425E15|           SAVINGS|KARB0000954| H VIGNESH|7019270274@ybl|        1500|     918020110872063|           SAVINGS|UTIB0000000|   A1 Plantain Mandy|gpay-11173717007@...|        1500|SUCCESS|17-02-2022 20:51|17-02-2022 20:51|Personal Transfer|TRANSFER_FRIENDS_...|\n",
            "|YBLa69c2955ef8c4a...|             PAY|    T2201041657290521...|               2.00447E11|Payment from PhonePe|           9.5425E15|           SAVINGS|KARB0000954| PHILOMINA|8073789525@ybl|     1100000|     520191054361520|           SAVINGS|CORP0000098|     JOVESTER DSOUZA|      9964507166@ybl|     1100000|SUCCESS|04-01-2022 16:57|04-01-2022 16:57|Personal Transfer|TRANSFER_FRIENDS_...|\n",
            "|YBL9da71b83cde64a...|             PAY|    T2202101904307438...|               2.04112E11|Payment from PhonePe|           9.5425E15|           SAVINGS|KARB0000954| PHILOMINA|8073789525@ybl|       26000|    0161301000057472|           SAVINGS|LAVB0000161|            KALU RAM|       Q93659325@ybl|       26000|SUCCESS|10-02-2022 19:04|10-02-2022 19:04|Personal Transfer|TRANSFER_FRIENDS_...|\n",
            "|YBL2a3a489ee99e44...|             PAY|    T2201061024416257...|               2.00681E11|Payment from PhonePe|           9.5425E15|           SAVINGS|KARB0000954| PHILOMINA|8073789525@ybl|       72000|     149110100033175|           SAVINGS|ANDB0001491|SHANKARLINGAPPA I...|      9008819966@ybl|       72000|SUCCESS|06-01-2022 10:24|06-01-2022 10:24|Personal Transfer|TRANSFER_FRIENDS_...|\n",
            "|APLe2773aa50c1847...|         COLLECT|    TQhuK1uH4fZUdaE6G...|               2.01116E11|You are paying fo...|           9.5425E15|           SAVINGS|KARB0000954| PHILOMINA|8073789525@ybl|      104700|      10001291013360|           SAVINGS|UTIB0000100|              AMAZON|          amazon@apl|      104700|SUCCESS|11-01-2022 15:01|11-01-2022 15:01|Personal Transfer|TRANSFER_FRIENDS_...|\n",
            "|ICI65ab2307187742...|         COLLECT|    ICI65ab2307187742...|               2.01707E11|APOLLO PHARMACY P...|           9.5425E15|           SAVINGS|KARB0000954| PHILOMINA|8073789525@ybl|       80366|        2060SLRAZORP|           SAVINGS|ICIC0000001|APOLLO PHARMACY P...|apollopharmacy.rz...|       80366|SUCCESS|17-01-2022 08:51|17-01-2022 08:52|Personal Transfer|TRANSFER_FRIENDS_...|\n",
            "|YBLd3f1064d4f944b...|             PAY|    T2202211044141039...|               2.05219E11|Payment from PhonePe|           9.5425E15|           SAVINGS|KARB0000954| PHILOMINA|8073789525@ybl|      100000|     335122010000357|           SAVINGS|UBIN0933511|     MOHAMMED FAIZAL|      6364277310@ybl|      100000|SUCCESS|21-02-2022 10:44|21-02-2022 10:44|Personal Transfer|TRANSFER_FRIENDS_...|\n",
            "|YBL01c987f1b89a4d...|             PAY|    T2202041641406248...|               2.03514E11|Payment from PhonePe|           9.5425E15|           SAVINGS|KARB0000954| PHILOMINA|8073789525@ybl|      500000|     520191054361520|           SAVINGS|CORP0000098|     JOVESTER DSOUZA|      9964507166@ybl|      500000|SUCCESS|04-02-2022 16:41|04-02-2022 16:41|Personal Transfer|TRANSFER_FRIENDS_...|\n",
            "|YBLfeab69b0619049...|             PAY|    T2201220755162182...|               2.02284E11|Payment from PhonePe|           9.5425E15|           SAVINGS|KARB0000954| PHILOMINA|8073789525@ybl|      100000|    1092500101146301|           SAVINGS|KARB0000109| C SUNIL KUMAR REDDY|      8123867778@ybl|      100000|SUCCESS|22-01-2022 07:55|22-01-2022 07:55|Personal Transfer|TRANSFER_FRIENDS_...|\n",
            "|YBL089e06a6ad4d48...|             PAY|    T2202121706530563...|               2.04313E11|Payment from PhonePe|           9.5425E15|           SAVINGS|KARB0000954| PHILOMINA|8073789525@ybl|        6000|    9542500100878201|           SAVINGS|KARB0000954|     VASHU DEV GUPTA|      Q111257607@ybl|        6000|SUCCESS|12-02-2022 17:06|12-02-2022 17:06|Personal Transfer|TRANSFER_FRIENDS_...|\n",
            "| euldzFg2zfMzWBXio8v|             PAY|    3839aa1b60b23a04007c|               2.03178E11|Payment from PhonePe|           9.5425E15|           SAVINGS|KARB0000954| PHILOMINA|8073789525@ybl|      130500|       1000129101465|           SAVINGS|UTIB0000100|INNOVATIVE RETAIL...|  bigbasket@axisbank|      130500|SUCCESS|31-01-2022 20:08|31-01-2022 20:08|Personal Transfer|TRANSFER_FRIENDS_...|\n",
            "+--------------------+----------------+------------------------+-------------------------+--------------------+--------------------+------------------+-----------+----------+--------------+------------+--------------------+------------------+-----------+--------------------+--------------------+------------+-------+----------------+----------------+-----------------+--------------------+\n",
            "only showing top 20 rows\n",
            "\n"
          ]
        }
      ]
    },
    {
      "cell_type": "code",
      "source": [
        "from pyspark.ml.feature import StringIndexer\n",
        "\n",
        "# Select the relevant columns\n",
        "df2 = df.select(['payer_name','payer_vpa','payee_account_type','payee_name','payee_vpa','payer_account_type', 'Category1','Category2'])\n",
        "\n",
        "# Convert string labels to numeric\n",
        "label_indexer_cat1 = StringIndexer(inputCol=\"Category1\", outputCol=\"label_cat1\").fit(df2)\n",
        "label_indexer_cat2 = StringIndexer(inputCol=\"Category2\", outputCol=\"label_cat2\").fit(df2)\n",
        "df2 = label_indexer_cat1.transform(df2)\n",
        "df2 = label_indexer_cat2.transform(df2)\n",
        "\n",
        "# Tokenize the columns\n",
        "tokenizer_inputs = ['payer_name', 'payee_name', 'payee_account_type', 'payer_account_type', 'payer_vpa', 'payee_vpa']\n",
        "for inputCol in tokenizer_inputs:\n",
        "    tokenizer = Tokenizer(inputCol=inputCol, outputCol=inputCol+\"_tokens\")\n",
        "    df2 = tokenizer.transform(df2)\n",
        "\n",
        "# Use HashingTF and IDF to convert tokens to features\n",
        "for inputCol in tokenizer_inputs:\n",
        "    hashingTF = HashingTF(inputCol=f\"{inputCol}_tokens\", outputCol=f\"{inputCol}_tf\")\n",
        "    df2 = hashingTF.transform(df2)\n",
        "    idf = IDF(inputCol=f\"{inputCol}_tf\", outputCol=f\"{inputCol}_features\").fit(df2)\n",
        "    df2 = idf.transform(df2)\n",
        "\n",
        "# Assemble features\n",
        "assembler = VectorAssembler(inputCols=[f\"{inputCol}_features\" for inputCol in tokenizer_inputs], outputCol=\"features\")\n",
        "df2 = assembler.transform(df2)\n",
        "\n",
        "# Split data\n",
        "train, test = df2.randomSplit([0.8, 0.2], seed=42)\n",
        "\n",
        "# Train Random Forest models\n",
        "rf_cat1 = RandomForestClassifier(labelCol=\"label_cat1\", featuresCol=\"features\")\n",
        "rf_cat2 = RandomForestClassifier(labelCol=\"label_cat2\", featuresCol=\"features\")\n",
        "\n",
        "model_cat1 = rf_cat1.fit(train.select(\"features\", \"label_cat1\"))\n",
        "model_cat2 = rf_cat2.fit(train.select(\"features\", \"label_cat2\"))\n",
        "\n",
        "# Predictions\n",
        "predictions_cat1 = model_cat1.transform(test)\n",
        "predictions_cat2 = model_cat2.transform(test)\n",
        "\n",
        "# Evaluate\n",
        "evaluator_cat1 = MulticlassClassificationEvaluator(labelCol=\"label_cat1\", predictionCol=\"prediction\", metricName=\"accuracy\")\n",
        "accuracy_cat1 = evaluator_cat1.evaluate(predictions_cat1)\n",
        "print(\"Accuracy for Category Level 1: %.2f\" % accuracy_cat1)\n",
        "\n",
        "evaluator_cat2 = MulticlassClassificationEvaluator(labelCol=\"label_cat2\", predictionCol=\"prediction\", metricName=\"accuracy\")\n",
        "accuracy_cat2 = evaluator_cat2.evaluate(predictions_cat2)\n",
        "print(\"Accuracy for Category Level 2: %.2f\" % accuracy_cat2)\n",
        "\n"
      ],
      "metadata": {
        "colab": {
          "base_uri": "https://localhost:8080/",
          "height": 547
        },
        "id": "rz8U7uiJy1Sd",
        "outputId": "ab95ef49-9d4d-48f7-ec88-c6182b313e43"
      },
      "execution_count": 6,
      "outputs": [
        {
          "output_type": "stream",
          "name": "stderr",
          "text": [
            "ERROR:root:KeyboardInterrupt while sending command.\n",
            "Traceback (most recent call last):\n",
            "  File \"/usr/local/lib/python3.10/dist-packages/py4j/java_gateway.py\", line 1038, in send_command\n",
            "    response = connection.send_command(command)\n",
            "  File \"/usr/local/lib/python3.10/dist-packages/py4j/clientserver.py\", line 511, in send_command\n",
            "    answer = smart_decode(self.stream.readline()[:-1])\n",
            "  File \"/usr/lib/python3.10/socket.py\", line 705, in readinto\n",
            "    return self._sock.recv_into(b)\n",
            "KeyboardInterrupt\n"
          ]
        },
        {
          "output_type": "error",
          "ename": "KeyboardInterrupt",
          "evalue": "ignored",
          "traceback": [
            "\u001b[0;31m---------------------------------------------------------------------------\u001b[0m",
            "\u001b[0;31mKeyboardInterrupt\u001b[0m                         Traceback (most recent call last)",
            "\u001b[0;32m<ipython-input-6-ce329c8ae869>\u001b[0m in \u001b[0;36m<cell line: 36>\u001b[0;34m()\u001b[0m\n\u001b[1;32m     34\u001b[0m \u001b[0mrf_cat2\u001b[0m \u001b[0;34m=\u001b[0m \u001b[0mRandomForestClassifier\u001b[0m\u001b[0;34m(\u001b[0m\u001b[0mlabelCol\u001b[0m\u001b[0;34m=\u001b[0m\u001b[0;34m\"label_cat2\"\u001b[0m\u001b[0;34m,\u001b[0m \u001b[0mfeaturesCol\u001b[0m\u001b[0;34m=\u001b[0m\u001b[0;34m\"features\"\u001b[0m\u001b[0;34m)\u001b[0m\u001b[0;34m\u001b[0m\u001b[0;34m\u001b[0m\u001b[0m\n\u001b[1;32m     35\u001b[0m \u001b[0;34m\u001b[0m\u001b[0m\n\u001b[0;32m---> 36\u001b[0;31m \u001b[0mmodel_cat1\u001b[0m \u001b[0;34m=\u001b[0m \u001b[0mrf_cat1\u001b[0m\u001b[0;34m.\u001b[0m\u001b[0mfit\u001b[0m\u001b[0;34m(\u001b[0m\u001b[0mtrain\u001b[0m\u001b[0;34m.\u001b[0m\u001b[0mselect\u001b[0m\u001b[0;34m(\u001b[0m\u001b[0;34m\"features\"\u001b[0m\u001b[0;34m,\u001b[0m \u001b[0;34m\"label_cat1\"\u001b[0m\u001b[0;34m)\u001b[0m\u001b[0;34m)\u001b[0m\u001b[0;34m\u001b[0m\u001b[0;34m\u001b[0m\u001b[0m\n\u001b[0m\u001b[1;32m     37\u001b[0m \u001b[0mmodel_cat2\u001b[0m \u001b[0;34m=\u001b[0m \u001b[0mrf_cat2\u001b[0m\u001b[0;34m.\u001b[0m\u001b[0mfit\u001b[0m\u001b[0;34m(\u001b[0m\u001b[0mtrain\u001b[0m\u001b[0;34m.\u001b[0m\u001b[0mselect\u001b[0m\u001b[0;34m(\u001b[0m\u001b[0;34m\"features\"\u001b[0m\u001b[0;34m,\u001b[0m \u001b[0;34m\"label_cat2\"\u001b[0m\u001b[0;34m)\u001b[0m\u001b[0;34m)\u001b[0m\u001b[0;34m\u001b[0m\u001b[0;34m\u001b[0m\u001b[0m\n\u001b[1;32m     38\u001b[0m \u001b[0;34m\u001b[0m\u001b[0m\n",
            "\u001b[0;32m/usr/local/lib/python3.10/dist-packages/pyspark/ml/base.py\u001b[0m in \u001b[0;36mfit\u001b[0;34m(self, dataset, params)\u001b[0m\n\u001b[1;32m    203\u001b[0m                 \u001b[0;32mreturn\u001b[0m \u001b[0mself\u001b[0m\u001b[0;34m.\u001b[0m\u001b[0mcopy\u001b[0m\u001b[0;34m(\u001b[0m\u001b[0mparams\u001b[0m\u001b[0;34m)\u001b[0m\u001b[0;34m.\u001b[0m\u001b[0m_fit\u001b[0m\u001b[0;34m(\u001b[0m\u001b[0mdataset\u001b[0m\u001b[0;34m)\u001b[0m\u001b[0;34m\u001b[0m\u001b[0;34m\u001b[0m\u001b[0m\n\u001b[1;32m    204\u001b[0m             \u001b[0;32melse\u001b[0m\u001b[0;34m:\u001b[0m\u001b[0;34m\u001b[0m\u001b[0;34m\u001b[0m\u001b[0m\n\u001b[0;32m--> 205\u001b[0;31m                 \u001b[0;32mreturn\u001b[0m \u001b[0mself\u001b[0m\u001b[0;34m.\u001b[0m\u001b[0m_fit\u001b[0m\u001b[0;34m(\u001b[0m\u001b[0mdataset\u001b[0m\u001b[0;34m)\u001b[0m\u001b[0;34m\u001b[0m\u001b[0;34m\u001b[0m\u001b[0m\n\u001b[0m\u001b[1;32m    206\u001b[0m         \u001b[0;32melse\u001b[0m\u001b[0;34m:\u001b[0m\u001b[0;34m\u001b[0m\u001b[0;34m\u001b[0m\u001b[0m\n\u001b[1;32m    207\u001b[0m             raise TypeError(\n",
            "\u001b[0;32m/usr/local/lib/python3.10/dist-packages/pyspark/ml/wrapper.py\u001b[0m in \u001b[0;36m_fit\u001b[0;34m(self, dataset)\u001b[0m\n\u001b[1;32m    379\u001b[0m \u001b[0;34m\u001b[0m\u001b[0m\n\u001b[1;32m    380\u001b[0m     \u001b[0;32mdef\u001b[0m \u001b[0m_fit\u001b[0m\u001b[0;34m(\u001b[0m\u001b[0mself\u001b[0m\u001b[0;34m,\u001b[0m \u001b[0mdataset\u001b[0m\u001b[0;34m:\u001b[0m \u001b[0mDataFrame\u001b[0m\u001b[0;34m)\u001b[0m \u001b[0;34m->\u001b[0m \u001b[0mJM\u001b[0m\u001b[0;34m:\u001b[0m\u001b[0;34m\u001b[0m\u001b[0;34m\u001b[0m\u001b[0m\n\u001b[0;32m--> 381\u001b[0;31m         \u001b[0mjava_model\u001b[0m \u001b[0;34m=\u001b[0m \u001b[0mself\u001b[0m\u001b[0;34m.\u001b[0m\u001b[0m_fit_java\u001b[0m\u001b[0;34m(\u001b[0m\u001b[0mdataset\u001b[0m\u001b[0;34m)\u001b[0m\u001b[0;34m\u001b[0m\u001b[0;34m\u001b[0m\u001b[0m\n\u001b[0m\u001b[1;32m    382\u001b[0m         \u001b[0mmodel\u001b[0m \u001b[0;34m=\u001b[0m \u001b[0mself\u001b[0m\u001b[0;34m.\u001b[0m\u001b[0m_create_model\u001b[0m\u001b[0;34m(\u001b[0m\u001b[0mjava_model\u001b[0m\u001b[0;34m)\u001b[0m\u001b[0;34m\u001b[0m\u001b[0;34m\u001b[0m\u001b[0m\n\u001b[1;32m    383\u001b[0m         \u001b[0;32mreturn\u001b[0m \u001b[0mself\u001b[0m\u001b[0;34m.\u001b[0m\u001b[0m_copyValues\u001b[0m\u001b[0;34m(\u001b[0m\u001b[0mmodel\u001b[0m\u001b[0;34m)\u001b[0m\u001b[0;34m\u001b[0m\u001b[0;34m\u001b[0m\u001b[0m\n",
            "\u001b[0;32m/usr/local/lib/python3.10/dist-packages/pyspark/ml/wrapper.py\u001b[0m in \u001b[0;36m_fit_java\u001b[0;34m(self, dataset)\u001b[0m\n\u001b[1;32m    376\u001b[0m \u001b[0;34m\u001b[0m\u001b[0m\n\u001b[1;32m    377\u001b[0m         \u001b[0mself\u001b[0m\u001b[0;34m.\u001b[0m\u001b[0m_transfer_params_to_java\u001b[0m\u001b[0;34m(\u001b[0m\u001b[0;34m)\u001b[0m\u001b[0;34m\u001b[0m\u001b[0;34m\u001b[0m\u001b[0m\n\u001b[0;32m--> 378\u001b[0;31m         \u001b[0;32mreturn\u001b[0m \u001b[0mself\u001b[0m\u001b[0;34m.\u001b[0m\u001b[0m_java_obj\u001b[0m\u001b[0;34m.\u001b[0m\u001b[0mfit\u001b[0m\u001b[0;34m(\u001b[0m\u001b[0mdataset\u001b[0m\u001b[0;34m.\u001b[0m\u001b[0m_jdf\u001b[0m\u001b[0;34m)\u001b[0m\u001b[0;34m\u001b[0m\u001b[0;34m\u001b[0m\u001b[0m\n\u001b[0m\u001b[1;32m    379\u001b[0m \u001b[0;34m\u001b[0m\u001b[0m\n\u001b[1;32m    380\u001b[0m     \u001b[0;32mdef\u001b[0m \u001b[0m_fit\u001b[0m\u001b[0;34m(\u001b[0m\u001b[0mself\u001b[0m\u001b[0;34m,\u001b[0m \u001b[0mdataset\u001b[0m\u001b[0;34m:\u001b[0m \u001b[0mDataFrame\u001b[0m\u001b[0;34m)\u001b[0m \u001b[0;34m->\u001b[0m \u001b[0mJM\u001b[0m\u001b[0;34m:\u001b[0m\u001b[0;34m\u001b[0m\u001b[0;34m\u001b[0m\u001b[0m\n",
            "\u001b[0;32m/usr/local/lib/python3.10/dist-packages/py4j/java_gateway.py\u001b[0m in \u001b[0;36m__call__\u001b[0;34m(self, *args)\u001b[0m\n\u001b[1;32m   1319\u001b[0m             \u001b[0mproto\u001b[0m\u001b[0;34m.\u001b[0m\u001b[0mEND_COMMAND_PART\u001b[0m\u001b[0;34m\u001b[0m\u001b[0;34m\u001b[0m\u001b[0m\n\u001b[1;32m   1320\u001b[0m \u001b[0;34m\u001b[0m\u001b[0m\n\u001b[0;32m-> 1321\u001b[0;31m         \u001b[0manswer\u001b[0m \u001b[0;34m=\u001b[0m \u001b[0mself\u001b[0m\u001b[0;34m.\u001b[0m\u001b[0mgateway_client\u001b[0m\u001b[0;34m.\u001b[0m\u001b[0msend_command\u001b[0m\u001b[0;34m(\u001b[0m\u001b[0mcommand\u001b[0m\u001b[0;34m)\u001b[0m\u001b[0;34m\u001b[0m\u001b[0;34m\u001b[0m\u001b[0m\n\u001b[0m\u001b[1;32m   1322\u001b[0m         return_value = get_return_value(\n\u001b[1;32m   1323\u001b[0m             answer, self.gateway_client, self.target_id, self.name)\n",
            "\u001b[0;32m/usr/local/lib/python3.10/dist-packages/py4j/java_gateway.py\u001b[0m in \u001b[0;36msend_command\u001b[0;34m(self, command, retry, binary)\u001b[0m\n\u001b[1;32m   1036\u001b[0m         \u001b[0mconnection\u001b[0m \u001b[0;34m=\u001b[0m \u001b[0mself\u001b[0m\u001b[0;34m.\u001b[0m\u001b[0m_get_connection\u001b[0m\u001b[0;34m(\u001b[0m\u001b[0;34m)\u001b[0m\u001b[0;34m\u001b[0m\u001b[0;34m\u001b[0m\u001b[0m\n\u001b[1;32m   1037\u001b[0m         \u001b[0;32mtry\u001b[0m\u001b[0;34m:\u001b[0m\u001b[0;34m\u001b[0m\u001b[0;34m\u001b[0m\u001b[0m\n\u001b[0;32m-> 1038\u001b[0;31m             \u001b[0mresponse\u001b[0m \u001b[0;34m=\u001b[0m \u001b[0mconnection\u001b[0m\u001b[0;34m.\u001b[0m\u001b[0msend_command\u001b[0m\u001b[0;34m(\u001b[0m\u001b[0mcommand\u001b[0m\u001b[0;34m)\u001b[0m\u001b[0;34m\u001b[0m\u001b[0;34m\u001b[0m\u001b[0m\n\u001b[0m\u001b[1;32m   1039\u001b[0m             \u001b[0;32mif\u001b[0m \u001b[0mbinary\u001b[0m\u001b[0;34m:\u001b[0m\u001b[0;34m\u001b[0m\u001b[0;34m\u001b[0m\u001b[0m\n\u001b[1;32m   1040\u001b[0m                 \u001b[0;32mreturn\u001b[0m \u001b[0mresponse\u001b[0m\u001b[0;34m,\u001b[0m \u001b[0mself\u001b[0m\u001b[0;34m.\u001b[0m\u001b[0m_create_connection_guard\u001b[0m\u001b[0;34m(\u001b[0m\u001b[0mconnection\u001b[0m\u001b[0;34m)\u001b[0m\u001b[0;34m\u001b[0m\u001b[0;34m\u001b[0m\u001b[0m\n",
            "\u001b[0;32m/usr/local/lib/python3.10/dist-packages/py4j/clientserver.py\u001b[0m in \u001b[0;36msend_command\u001b[0;34m(self, command)\u001b[0m\n\u001b[1;32m    509\u001b[0m         \u001b[0;32mtry\u001b[0m\u001b[0;34m:\u001b[0m\u001b[0;34m\u001b[0m\u001b[0;34m\u001b[0m\u001b[0m\n\u001b[1;32m    510\u001b[0m             \u001b[0;32mwhile\u001b[0m \u001b[0;32mTrue\u001b[0m\u001b[0;34m:\u001b[0m\u001b[0;34m\u001b[0m\u001b[0;34m\u001b[0m\u001b[0m\n\u001b[0;32m--> 511\u001b[0;31m                 \u001b[0manswer\u001b[0m \u001b[0;34m=\u001b[0m \u001b[0msmart_decode\u001b[0m\u001b[0;34m(\u001b[0m\u001b[0mself\u001b[0m\u001b[0;34m.\u001b[0m\u001b[0mstream\u001b[0m\u001b[0;34m.\u001b[0m\u001b[0mreadline\u001b[0m\u001b[0;34m(\u001b[0m\u001b[0;34m)\u001b[0m\u001b[0;34m[\u001b[0m\u001b[0;34m:\u001b[0m\u001b[0;34m-\u001b[0m\u001b[0;36m1\u001b[0m\u001b[0;34m]\u001b[0m\u001b[0;34m)\u001b[0m\u001b[0;34m\u001b[0m\u001b[0;34m\u001b[0m\u001b[0m\n\u001b[0m\u001b[1;32m    512\u001b[0m                 \u001b[0mlogger\u001b[0m\u001b[0;34m.\u001b[0m\u001b[0mdebug\u001b[0m\u001b[0;34m(\u001b[0m\u001b[0;34m\"Answer received: {0}\"\u001b[0m\u001b[0;34m.\u001b[0m\u001b[0mformat\u001b[0m\u001b[0;34m(\u001b[0m\u001b[0manswer\u001b[0m\u001b[0;34m)\u001b[0m\u001b[0;34m)\u001b[0m\u001b[0;34m\u001b[0m\u001b[0;34m\u001b[0m\u001b[0m\n\u001b[1;32m    513\u001b[0m                 \u001b[0;31m# Happens when a the other end is dead. There might be an empty\u001b[0m\u001b[0;34m\u001b[0m\u001b[0;34m\u001b[0m\u001b[0m\n",
            "\u001b[0;32m/usr/lib/python3.10/socket.py\u001b[0m in \u001b[0;36mreadinto\u001b[0;34m(self, b)\u001b[0m\n\u001b[1;32m    703\u001b[0m         \u001b[0;32mwhile\u001b[0m \u001b[0;32mTrue\u001b[0m\u001b[0;34m:\u001b[0m\u001b[0;34m\u001b[0m\u001b[0;34m\u001b[0m\u001b[0m\n\u001b[1;32m    704\u001b[0m             \u001b[0;32mtry\u001b[0m\u001b[0;34m:\u001b[0m\u001b[0;34m\u001b[0m\u001b[0;34m\u001b[0m\u001b[0m\n\u001b[0;32m--> 705\u001b[0;31m                 \u001b[0;32mreturn\u001b[0m \u001b[0mself\u001b[0m\u001b[0;34m.\u001b[0m\u001b[0m_sock\u001b[0m\u001b[0;34m.\u001b[0m\u001b[0mrecv_into\u001b[0m\u001b[0;34m(\u001b[0m\u001b[0mb\u001b[0m\u001b[0;34m)\u001b[0m\u001b[0;34m\u001b[0m\u001b[0;34m\u001b[0m\u001b[0m\n\u001b[0m\u001b[1;32m    706\u001b[0m             \u001b[0;32mexcept\u001b[0m \u001b[0mtimeout\u001b[0m\u001b[0;34m:\u001b[0m\u001b[0;34m\u001b[0m\u001b[0;34m\u001b[0m\u001b[0m\n\u001b[1;32m    707\u001b[0m                 \u001b[0mself\u001b[0m\u001b[0;34m.\u001b[0m\u001b[0m_timeout_occurred\u001b[0m \u001b[0;34m=\u001b[0m \u001b[0;32mTrue\u001b[0m\u001b[0;34m\u001b[0m\u001b[0;34m\u001b[0m\u001b[0m\n",
            "\u001b[0;31mKeyboardInterrupt\u001b[0m: "
          ]
        }
      ]
    }
  ]
}